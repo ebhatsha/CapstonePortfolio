{
 "cells": [
  {
   "cell_type": "code",
   "execution_count": 4,
   "id": "d304bb9a-7725-41a9-acdb-ccd58d929e54",
   "metadata": {},
   "outputs": [],
   "source": [
    "from sklearn.ensemble import RandomForestClassifier\n",
    "from sklearn.preprocessing import StandardScaler\n",
    "from sklearn.model_selection import train_test_split\n",
    "from sklearn.linear_model import LinearRegression\n",
    "from sklearn.model_selection import train_test_split\n",
    "from sklearn.linear_model import LinearRegression\n",
    "import matplotlib.pyplot as plt\n",
    "from sklearn.metrics import classification_report, confusion_matrix\n",
    "from sklearn.tree import DecisionTreeRegressor\n",
    "from sklearn.ensemble import RandomForestRegressor\n",
    "from sklearn.model_selection import train_test_split, GridSearchCV\n",
    "from sklearn.metrics import mean_squared_error, r2_score\n",
    "from sklearn.preprocessing import LabelEncoder"
   ]
  },
  {
   "cell_type": "code",
   "execution_count": 2,
   "id": "5bd275a2-3e57-4384-8ac3-dd43be59d4bf",
   "metadata": {},
   "outputs": [
    {
     "name": "stdout",
     "output_type": "stream",
     "text": [
      "Requirement already satisfied: pandas in c:\\users\\eshab\\anaconda3\\lib\\site-packages (2.2.3)Note: you may need to restart the kernel to use updated packages.\n",
      "\n",
      "Collecting opencv-python\n",
      "  Using cached opencv_python-4.12.0.88-cp37-abi3-win_amd64.whl.metadata (19 kB)\n",
      "Collecting pytesseract\n",
      "  Using cached pytesseract-0.3.13-py3-none-any.whl.metadata (11 kB)\n",
      "Requirement already satisfied: pillow in c:\\users\\eshab\\anaconda3\\lib\\site-packages (11.1.0)\n",
      "Requirement already satisfied: scikit-image in c:\\users\\eshab\\anaconda3\\lib\\site-packages (0.25.0)\n",
      "Requirement already satisfied: numpy>=1.26.0 in c:\\users\\eshab\\anaconda3\\lib\\site-packages (from pandas) (2.1.3)\n",
      "Requirement already satisfied: python-dateutil>=2.8.2 in c:\\users\\eshab\\anaconda3\\lib\\site-packages (from pandas) (2.9.0.post0)\n",
      "Requirement already satisfied: pytz>=2020.1 in c:\\users\\eshab\\anaconda3\\lib\\site-packages (from pandas) (2024.1)\n",
      "Requirement already satisfied: tzdata>=2022.7 in c:\\users\\eshab\\anaconda3\\lib\\site-packages (from pandas) (2025.2)\n",
      "Requirement already satisfied: packaging>=21.3 in c:\\users\\eshab\\anaconda3\\lib\\site-packages (from pytesseract) (24.2)\n",
      "Requirement already satisfied: scipy>=1.11.2 in c:\\users\\eshab\\anaconda3\\lib\\site-packages (from scikit-image) (1.15.3)\n",
      "Requirement already satisfied: networkx>=3.0 in c:\\users\\eshab\\anaconda3\\lib\\site-packages (from scikit-image) (3.4.2)\n",
      "Requirement already satisfied: imageio!=2.35.0,>=2.33 in c:\\users\\eshab\\anaconda3\\lib\\site-packages (from scikit-image) (2.37.0)\n",
      "Requirement already satisfied: tifffile>=2022.8.12 in c:\\users\\eshab\\anaconda3\\lib\\site-packages (from scikit-image) (2025.2.18)\n",
      "Requirement already satisfied: lazy-loader>=0.4 in c:\\users\\eshab\\anaconda3\\lib\\site-packages (from scikit-image) (0.4)\n",
      "Requirement already satisfied: six>=1.5 in c:\\users\\eshab\\anaconda3\\lib\\site-packages (from python-dateutil>=2.8.2->pandas) (1.17.0)\n",
      "Using cached opencv_python-4.12.0.88-cp37-abi3-win_amd64.whl (39.0 MB)\n",
      "Using cached pytesseract-0.3.13-py3-none-any.whl (14 kB)\n",
      "Installing collected packages: pytesseract, opencv-python\n",
      "\n",
      "   -------------------- ------------------- 1/2 [opencv-python]\n",
      "   -------------------- ------------------- 1/2 [opencv-python]\n",
      "   -------------------- ------------------- 1/2 [opencv-python]\n",
      "   -------------------- ------------------- 1/2 [opencv-python]\n",
      "   ---------------------------------------- 2/2 [opencv-python]\n",
      "\n",
      "Successfully installed opencv-python-4.12.0.88 pytesseract-0.3.13\n"
     ]
    }
   ],
   "source": [
    "pip install pandas opencv-python pytesseract pillow scikit-image"
   ]
  },
  {
   "cell_type": "code",
   "execution_count": null,
   "id": "38c62668-6dfb-4ec5-8e03-c026f7a6ed78",
   "metadata": {},
   "outputs": [],
   "source": [
    "import numpy as np\n",
    "import cv2\n",
    "#from . import multiarray\n",
    "print(np.__version__)\n",
    "print(cv2.__version__)"
   ]
  },
  {
   "cell_type": "code",
   "execution_count": null,
   "id": "7c477f81-0f40-4a9f-9f9c-efefc1f4f778",
   "metadata": {},
   "outputs": [],
   "source": [
    "import cv2\n",
    "import pytesseract\n",
    "from pytesseract import Output\n",
    "import numpy as np\n",
    "import os\n",
    "from PIL import Image\n",
    "from skimage.metrics import structural_similarity as ssim\n",
    "import pandas as pd\n",
    "from skimage.measure import label, regionprops"
   ]
  },
  {
   "cell_type": "code",
   "execution_count": 57,
   "id": "df58a0fb-d28f-4875-a50a-4c0ba164fa6f",
   "metadata": {},
   "outputs": [],
   "source": [
    "import matplotlib.pyplot as plt\n",
    "import seaborn as sns"
   ]
  },
  {
   "cell_type": "code",
   "execution_count": 82,
   "id": "9d75bd0d-24bb-474b-9a61-e187bb1092a8",
   "metadata": {},
   "outputs": [],
   "source": [
    "import pandas as pd\n",
    "from sklearn.model_selection import train_test_split, GridSearchCV\n",
    "from sklearn.preprocessing import StandardScaler\n",
    "from sklearn.linear_model import LinearRegression, Ridge\n",
    "from sklearn.ensemble import RandomForestRegressor\n",
    "from sklearn.metrics import mean_squared_error, r2_score"
   ]
  },
  {
   "cell_type": "markdown",
   "id": "5143423c-c5ec-48bd-b29b-a1fc82c5e9f5",
   "metadata": {},
   "source": [
    "<div class=\"span5 alert alert-info\">\n",
    "<h3>BLOCK 1</h3><br>\n",
    "\n",
    "Extract valuable features from file of images and load them into dataset\n",
    "\n",
    "</div>"
   ]
  },
  {
   "cell_type": "code",
   "execution_count": 34,
   "id": "30497830-de4f-4b3f-b4bc-1fd8dbdea77d",
   "metadata": {},
   "outputs": [
    {
     "data": {
      "text/html": [
       "<div>\n",
       "<style scoped>\n",
       "    .dataframe tbody tr th:only-of-type {\n",
       "        vertical-align: middle;\n",
       "    }\n",
       "\n",
       "    .dataframe tbody tr th {\n",
       "        vertical-align: top;\n",
       "    }\n",
       "\n",
       "    .dataframe thead th {\n",
       "        text-align: right;\n",
       "    }\n",
       "</style>\n",
       "<table border=\"1\" class=\"dataframe\">\n",
       "  <thead>\n",
       "    <tr style=\"text-align: right;\">\n",
       "      <th></th>\n",
       "      <th>image_id</th>\n",
       "      <th>like_count</th>\n",
       "      <th>comment_count</th>\n",
       "    </tr>\n",
       "  </thead>\n",
       "  <tbody>\n",
       "    <tr>\n",
       "      <th>0</th>\n",
       "      <td>1</td>\n",
       "      <td>1865</td>\n",
       "      <td>24</td>\n",
       "    </tr>\n",
       "    <tr>\n",
       "      <th>1</th>\n",
       "      <td>2</td>\n",
       "      <td>1502</td>\n",
       "      <td>52</td>\n",
       "    </tr>\n",
       "    <tr>\n",
       "      <th>2</th>\n",
       "      <td>3</td>\n",
       "      <td>16800</td>\n",
       "      <td>73</td>\n",
       "    </tr>\n",
       "    <tr>\n",
       "      <th>3</th>\n",
       "      <td>4</td>\n",
       "      <td>687</td>\n",
       "      <td>14</td>\n",
       "    </tr>\n",
       "    <tr>\n",
       "      <th>4</th>\n",
       "      <td>5</td>\n",
       "      <td>241</td>\n",
       "      <td>4</td>\n",
       "    </tr>\n",
       "  </tbody>\n",
       "</table>\n",
       "</div>"
      ],
      "text/plain": [
       "   image_id  like_count  comment_count\n",
       "0         1        1865             24\n",
       "1         2        1502             52\n",
       "2         3       16800             73\n",
       "3         4         687             14\n",
       "4         5         241              4"
      ]
     },
     "execution_count": 34,
     "metadata": {},
     "output_type": "execute_result"
    }
   ],
   "source": [
    "df = pd.read_excel(r\"C:\\Users\\eshab\\Downloads\\Capstone3\\ig_infographic_stats.xlsx\")\n",
    "\n",
    "df.head()"
   ]
  },
  {
   "cell_type": "code",
   "execution_count": 35,
   "id": "1ad8cf27-153e-4850-8f03-e1b9dc8b837b",
   "metadata": {},
   "outputs": [
    {
     "data": {
      "text/html": [
       "<div>\n",
       "<style scoped>\n",
       "    .dataframe tbody tr th:only-of-type {\n",
       "        vertical-align: middle;\n",
       "    }\n",
       "\n",
       "    .dataframe tbody tr th {\n",
       "        vertical-align: top;\n",
       "    }\n",
       "\n",
       "    .dataframe thead th {\n",
       "        text-align: right;\n",
       "    }\n",
       "</style>\n",
       "<table border=\"1\" class=\"dataframe\">\n",
       "  <thead>\n",
       "    <tr style=\"text-align: right;\">\n",
       "      <th></th>\n",
       "      <th>image_id</th>\n",
       "      <th>like_count</th>\n",
       "      <th>comment_count</th>\n",
       "    </tr>\n",
       "  </thead>\n",
       "  <tbody>\n",
       "    <tr>\n",
       "      <th>0</th>\n",
       "      <td>1</td>\n",
       "      <td>1865</td>\n",
       "      <td>24</td>\n",
       "    </tr>\n",
       "    <tr>\n",
       "      <th>1</th>\n",
       "      <td>2</td>\n",
       "      <td>1502</td>\n",
       "      <td>52</td>\n",
       "    </tr>\n",
       "    <tr>\n",
       "      <th>2</th>\n",
       "      <td>3</td>\n",
       "      <td>16800</td>\n",
       "      <td>73</td>\n",
       "    </tr>\n",
       "    <tr>\n",
       "      <th>3</th>\n",
       "      <td>4</td>\n",
       "      <td>687</td>\n",
       "      <td>14</td>\n",
       "    </tr>\n",
       "    <tr>\n",
       "      <th>4</th>\n",
       "      <td>5</td>\n",
       "      <td>241</td>\n",
       "      <td>4</td>\n",
       "    </tr>\n",
       "  </tbody>\n",
       "</table>\n",
       "</div>"
      ],
      "text/plain": [
       "   image_id  like_count  comment_count\n",
       "0         1        1865             24\n",
       "1         2        1502             52\n",
       "2         3       16800             73\n",
       "3         4         687             14\n",
       "4         5         241              4"
      ]
     },
     "execution_count": 35,
     "metadata": {},
     "output_type": "execute_result"
    }
   ],
   "source": [
    "# Folder where images are stored\n",
    "image_folder = r\"C:\\Users\\eshab\\OneDrive\\Pictures\\Screenshots\"\n",
    "\n",
    "df.head()"
   ]
  },
  {
   "cell_type": "code",
   "execution_count": 36,
   "id": "f11906db-2210-403d-adf8-d690be635bc0",
   "metadata": {},
   "outputs": [
    {
     "name": "stdout",
     "output_type": "stream",
     "text": [
      "Done!\n"
     ]
    }
   ],
   "source": [
    "pytesseract.pytesseract.tesseract_cmd = r\"C:\\Program Files\\Tesseract-OCR\\tesseract.exe\"\n",
    "\n",
    "# Load all image files in order\n",
    "image_files = sorted([\n",
    "    os.path.join(image_folder, f)\n",
    "    for f in os.listdir(image_folder)\n",
    "    if f.lower().endswith(('.png', '.jpg', '.jpeg'))\n",
    "])\n",
    "\n",
    "# Sanity check\n",
    "if len(image_files) != len(df):\n",
    "    print(f\"{len(image_files)} images vs {len(df)} Excel rows – double check alignment!\")\n",
    "\n",
    "def get_blank_percentage(image):\n",
    "    gray = cv2.cvtColor(image, cv2.COLOR_BGR2GRAY)\n",
    "    thresh = cv2.adaptiveThreshold(\n",
    "        gray, 255,\n",
    "        cv2.ADAPTIVE_THRESH_MEAN_C,\n",
    "        cv2.THRESH_BINARY_INV,\n",
    "        15, 10\n",
    "    )\n",
    "    non_zero = cv2.countNonZero(thresh)\n",
    "    total_pixels = thresh.shape[0] * thresh.shape[1]\n",
    "    return 100 * (1 - (non_zero / total_pixels))\n",
    "\n",
    "#refining the handwritten detection, face_count detection, and adding a feature extraction that detects a small white\n",
    "## square in the upper right corner, which on Instagram show if the post is multiple slides\n",
    "def get_text_percentage(image):\n",
    "    gray = cv2.cvtColor(image, cv2.COLOR_BGR2GRAY)\n",
    "    d = pytesseract.image_to_data(gray, output_type=Output.DICT)\n",
    "    text_area = 0\n",
    "    for i in range(len(d['text'])):\n",
    "        try:\n",
    "            conf = float(d['conf'][i])\n",
    "        except ValueError:\n",
    "            continue\n",
    "        if conf > 30:  # Filter low-confidence detections\n",
    "            (w, h) = (d['width'][i], d['height'][i])\n",
    "            text_area += w * h\n",
    "    total_area = image.shape[0] * image.shape[1]\n",
    "    return 100 * (text_area / total_area)\n",
    "\n",
    "def detect_handwriting(image):\n",
    "    gray = cv2.cvtColor(image, cv2.COLOR_BGR2GRAY)\n",
    "    text = pytesseract.image_to_string(gray, config='--psm 6')\n",
    "    handwritten_cues = ['sketch', 'ink', 'uneven', 'comic', 'doodle']\n",
    "    return int(any(cue in text.lower() for cue in handwritten_cues))\n",
    "\n",
    "def count_faces(image):\n",
    "    gray = cv2.cvtColor(image, cv2.COLOR_BGR2GRAY)\n",
    "    face_cascade = cv2.CascadeClassifier(cv2.data.haarcascades + 'haarcascade_frontalface_default.xml')\n",
    "    faces = face_cascade.detectMultiScale(gray, scaleFactor=1.1, minNeighbors=4)\n",
    "    return len(faces)\n",
    "\n",
    "def detect_carousel(image):\n",
    "    # Crop top-right corner\n",
    "    h, w = image.shape[:2]\n",
    "    corner = image[0:int(h * 0.15), int(w * 0.85):w]\n",
    "    corner_gray = cv2.cvtColor(corner, cv2.COLOR_BGR2GRAY)\n",
    "    corner_resized = cv2.resize(corner_gray, (50, 50))\n",
    "\n",
    "    # Define a white square template\n",
    "    square = 255 * np.ones((50, 50), dtype=np.uint8)\n",
    "    similarity, _ = ssim(corner_resized, square, full=True)\n",
    "    return int(similarity > 0.8)\n",
    "\n",
    "print('Done!')"
   ]
  },
  {
   "cell_type": "code",
   "execution_count": 39,
   "id": "36612de8-cced-4871-a551-c17a67fe0e79",
   "metadata": {},
   "outputs": [
    {
     "name": "stdout",
     "output_type": "stream",
     "text": [
      "Done!\n"
     ]
    }
   ],
   "source": [
    "# Feature extraction loop\n",
    "image_ids, blank_percents, text_percents = [], [], []\n",
    "handwritten_flags, face_counts, carousel_flags = [], [], []\n",
    "\n",
    "for filename in os.listdir(image_folder):\n",
    "    if filename.lower().endswith(('.png', '.jpg', '.jpeg')):\n",
    "        image_path = os.path.join(image_folder, filename)\n",
    "        image = cv2.imread(image_path)\n",
    "\n",
    "        if image is None:\n",
    "            continue\n",
    "\n",
    "        image_id = os.path.splitext(filename)[0]\n",
    "        image_ids.append(image_id)\n",
    "        blank_percents.append(get_blank_percentage(image))\n",
    "        text_percents.append(get_text_percentage(image))\n",
    "        handwritten_flags.append(detect_handwriting(image))\n",
    "        face_counts.append(count_faces(image))\n",
    "        carousel_flags.append(detect_carousel(image))\n",
    "\n",
    "df_features = pd.DataFrame({\n",
    "    'image_id': image_ids,\n",
    "    'blank_percent': blank_percents,\n",
    "    'text_percent': text_percents,\n",
    "    'handwritten': handwritten_flags,\n",
    "    'face_count': face_counts,\n",
    "    'carousel': carousel_flags\n",
    "})\n",
    "\n",
    "print('Done!')"
   ]
  },
  {
   "cell_type": "code",
   "execution_count": 50,
   "id": "ccdf939b-ec62-47bd-8e88-7022f9e33dbf",
   "metadata": {},
   "outputs": [
    {
     "name": "stdout",
     "output_type": "stream",
     "text": [
      "Merged file saved successfully!\n"
     ]
    }
   ],
   "source": [
    "# Define a new file path for the merged dataset\n",
    "new_file_path = r\"C:\\Users\\eshab\\Downloads\\Capstone3\\ig_infographic_stats_merged.xlsx\"\n",
    "\n",
    "# Save the merged DataFrame to the new Excel file\n",
    "df_merged.to_excel(new_file_path, index=False)\n",
    "\n",
    "print(\"Merged file saved successfully!\")"
   ]
  },
  {
   "cell_type": "code",
   "execution_count": 52,
   "id": "16d1e330-79d2-4066-8346-70f41f09f2f3",
   "metadata": {},
   "outputs": [
    {
     "data": {
      "text/html": [
       "<div>\n",
       "<style scoped>\n",
       "    .dataframe tbody tr th:only-of-type {\n",
       "        vertical-align: middle;\n",
       "    }\n",
       "\n",
       "    .dataframe tbody tr th {\n",
       "        vertical-align: top;\n",
       "    }\n",
       "\n",
       "    .dataframe thead th {\n",
       "        text-align: right;\n",
       "    }\n",
       "</style>\n",
       "<table border=\"1\" class=\"dataframe\">\n",
       "  <thead>\n",
       "    <tr style=\"text-align: right;\">\n",
       "      <th></th>\n",
       "      <th>image_id</th>\n",
       "      <th>like_count</th>\n",
       "      <th>comment_count</th>\n",
       "      <th>blank_percent</th>\n",
       "      <th>text_percent</th>\n",
       "      <th>handwritten</th>\n",
       "      <th>face_count</th>\n",
       "      <th>carousel</th>\n",
       "    </tr>\n",
       "  </thead>\n",
       "  <tbody>\n",
       "    <tr>\n",
       "      <th>0</th>\n",
       "      <td>1</td>\n",
       "      <td>1865</td>\n",
       "      <td>24</td>\n",
       "      <td>84.507535</td>\n",
       "      <td>25.661791</td>\n",
       "      <td>0</td>\n",
       "      <td>0</td>\n",
       "      <td>0</td>\n",
       "    </tr>\n",
       "    <tr>\n",
       "      <th>1</th>\n",
       "      <td>2</td>\n",
       "      <td>1502</td>\n",
       "      <td>52</td>\n",
       "      <td>92.613889</td>\n",
       "      <td>20.563542</td>\n",
       "      <td>0</td>\n",
       "      <td>0</td>\n",
       "      <td>0</td>\n",
       "    </tr>\n",
       "    <tr>\n",
       "      <th>2</th>\n",
       "      <td>3</td>\n",
       "      <td>16800</td>\n",
       "      <td>73</td>\n",
       "      <td>94.518954</td>\n",
       "      <td>20.761592</td>\n",
       "      <td>0</td>\n",
       "      <td>0</td>\n",
       "      <td>1</td>\n",
       "    </tr>\n",
       "    <tr>\n",
       "      <th>3</th>\n",
       "      <td>4</td>\n",
       "      <td>687</td>\n",
       "      <td>14</td>\n",
       "      <td>79.299427</td>\n",
       "      <td>26.529612</td>\n",
       "      <td>0</td>\n",
       "      <td>0</td>\n",
       "      <td>0</td>\n",
       "    </tr>\n",
       "    <tr>\n",
       "      <th>4</th>\n",
       "      <td>5</td>\n",
       "      <td>241</td>\n",
       "      <td>4</td>\n",
       "      <td>79.816514</td>\n",
       "      <td>11.782967</td>\n",
       "      <td>0</td>\n",
       "      <td>0</td>\n",
       "      <td>0</td>\n",
       "    </tr>\n",
       "  </tbody>\n",
       "</table>\n",
       "</div>"
      ],
      "text/plain": [
       "   image_id  like_count  comment_count  blank_percent  text_percent  \\\n",
       "0         1        1865             24      84.507535     25.661791   \n",
       "1         2        1502             52      92.613889     20.563542   \n",
       "2         3       16800             73      94.518954     20.761592   \n",
       "3         4         687             14      79.299427     26.529612   \n",
       "4         5         241              4      79.816514     11.782967   \n",
       "\n",
       "   handwritten  face_count  carousel  \n",
       "0            0           0         0  \n",
       "1            0           0         0  \n",
       "2            0           0         1  \n",
       "3            0           0         0  \n",
       "4            0           0         0  "
      ]
     },
     "execution_count": 52,
     "metadata": {},
     "output_type": "execute_result"
    }
   ],
   "source": [
    "df = pd.read_excel(r\"C:\\Users\\eshab\\Downloads\\Capstone3\\ig_infographic_stats_merged.xlsx\")\n",
    "df.head()"
   ]
  },
  {
   "cell_type": "markdown",
   "id": "7649cb0f-445f-4f64-8c11-e381dd8711d3",
   "metadata": {},
   "source": [
    "<div class=\"span5 alert alert-info\">\n",
    "<h3>BLOCK 2</h3><br>\n",
    "\n",
    "Perform EDA\n",
    "\n",
    "</div>"
   ]
  },
  {
   "cell_type": "code",
   "execution_count": 55,
   "id": "8b636278-3807-482d-b9c6-88818d944d5c",
   "metadata": {},
   "outputs": [
    {
     "name": "stdout",
     "output_type": "stream",
     "text": [
      "Done!\n"
     ]
    }
   ],
   "source": [
    "# Ensure ratios are handled safely\n",
    "df['text_blank_ratio'] = df['text_percent'] / (df['blank_percent'] + 1e-5)\n",
    "df['like_comment_ratio'] = df['like_count'] / (df['comment_count'] + 1e-5)\n",
    "\n",
    "print('Done!')"
   ]
  },
  {
   "cell_type": "code",
   "execution_count": 63,
   "id": "6d1c2e2a-f9f3-4af4-98e1-c4fa5ec6049c",
   "metadata": {},
   "outputs": [
    {
     "data": {
      "image/png": "[encoded data removed]",
      "text/plain": [
       "<Figure size 800x500 with 1 Axes>"
      ]
     },
     "metadata": {},
     "output_type": "display_data"
    }
   ],
   "source": [
    "# 1. Like Count vs Face Count (scatterplot with jitter)\n",
    "plt.figure(figsize=(8, 5))\n",
    "sns.stripplot(x='face_count', y='like_count', data=df, jitter=True, size=6)\n",
    "plt.title(\"Like Count vs Number of Faces\")\n",
    "plt.xlabel(\"Number of Faces Detected\")\n",
    "plt.ylabel(\"Like Count\")\n",
    "plt.tight_layout()\n",
    "plt.show()"
   ]
  },
  {
   "cell_type": "code",
   "execution_count": 59,
   "id": "265c9896-77e3-4e92-9c2f-7a2e54a185b5",
   "metadata": {},
   "outputs": [
    {
     "data": {
      "image/png": "[encoded data removed]",
      "text/plain": [
       "<Figure size 800x500 with 1 Axes>"
      ]
     },
     "metadata": {},
     "output_type": "display_data"
    }
   ],
   "source": [
    "# 2. Bar plot: like count vs carousel\n",
    "plt.figure(figsize=(8, 5))\n",
    "sns.barplot(x='carousel', y='like_count', data=df, estimator='mean', errorbar=None)\n",
    "plt.title('Average Like Count by Carousel Presence')\n",
    "plt.xlabel('Carousel (0 = Single Image, 1 = Multiple Slides)')\n",
    "plt.ylabel('Average Like Count')\n",
    "plt.show()"
   ]
  },
  {
   "cell_type": "code",
   "execution_count": 60,
   "id": "9c305f55-a250-43c8-8332-934cdd672350",
   "metadata": {},
   "outputs": [
    {
     "data": {
      "image/png": "[encoded data removed]",
      "text/plain": [
       "<Figure size 800x500 with 1 Axes>"
      ]
     },
     "metadata": {},
     "output_type": "display_data"
    }
   ],
   "source": [
    "# 3. Boxplot for detecting like count outliers\n",
    "plt.figure(figsize=(8, 5))\n",
    "sns.boxplot(y='like_count', data=df)\n",
    "plt.title('Boxplot of Like Counts')\n",
    "plt.ylabel('Like Count')\n",
    "plt.show()"
   ]
  },
  {
   "cell_type": "code",
   "execution_count": 61,
   "id": "bb42e3ea-14d8-4147-9192-f68a2962a1eb",
   "metadata": {},
   "outputs": [
    {
     "data": {
      "image/png": "[encoded data removed]",
      "text/plain": [
       "<Figure size 800x500 with 1 Axes>"
      ]
     },
     "metadata": {},
     "output_type": "display_data"
    }
   ],
   "source": [
    "# 4. Scatter plot: text to blank space ratio vs like count\n",
    "plt.figure(figsize=(8, 5))\n",
    "sns.scatterplot(x='text_blank_ratio', y='like_count', data=df)\n",
    "plt.title('Like Count vs. Text-to-Blank Space Ratio')\n",
    "plt.xlabel('Text / Blank Space Ratio')\n",
    "plt.ylabel('Like Count')\n",
    "plt.show()"
   ]
  },
  {
   "cell_type": "code",
   "execution_count": 65,
   "id": "71b6a330-77d0-4419-bf65-a8b5114ae0dc",
   "metadata": {},
   "outputs": [
    {
     "data": {
      "image/png": "[encoded data removed]",
      "text/plain": [
       "<Figure size 800x500 with 1 Axes>"
      ]
     },
     "metadata": {},
     "output_type": "display_data"
    }
   ],
   "source": [
    "# 5. Histogram of Like-to-Comment Ratio\n",
    "plt.figure(figsize=(8, 5))\n",
    "sns.histplot(df['like_comment_ratio'], bins=30, kde=True)\n",
    "plt.title(\"Histogram of Like-to-Comment Ratio\")\n",
    "plt.xlabel(\"Like-to-Comment Ratio\")\n",
    "plt.ylabel(\"Frequency\")\n",
    "plt.tight_layout()\n",
    "plt.show()"
   ]
  },
  {
   "cell_type": "markdown",
   "id": "1e7783ca-807a-401a-aefa-24f702c3f474",
   "metadata": {},
   "source": [
    "<div class=\"span5 alert alert-info\">\n",
    "<h3>BLOCK 3</h3><br>\n",
    "\n",
    "Pre-Processing Data for Modeling\n",
    "\n",
    "</div>"
   ]
  },
  {
   "cell_type": "code",
   "execution_count": 74,
   "id": "3a2560d8-f81f-4115-892e-6058a110d13d",
   "metadata": {},
   "outputs": [
    {
     "data": {
      "text/plain": [
       "Index(['image_id', 'like_count', 'comment_count', 'blank_percent',\n",
       "       'text_percent', 'handwritten', 'face_count', 'carousel'],\n",
       "      dtype='object')"
      ]
     },
     "execution_count": 74,
     "metadata": {},
     "output_type": "execute_result"
    }
   ],
   "source": [
    "df = pd.read_excel(r\"C:\\Users\\eshab\\Downloads\\Capstone3\\ig_infographic_stats_merged.xlsx\")\n",
    "df.head()\n",
    "df.columns"
   ]
  },
  {
   "cell_type": "code",
   "execution_count": 79,
   "id": "de0d9153-28d3-48bd-8f13-330d40018576",
   "metadata": {},
   "outputs": [
    {
     "name": "stdout",
     "output_type": "stream",
     "text": [
      "Done!\n"
     ]
    }
   ],
   "source": [
    "# Create a new features, instead of just a list\n",
    "df[\"text_to_blank_ratio\"] = df[\"text_percent\"] / (df[\"blank_percent\"] + 1e-6)\n",
    "\n",
    "# Create target variable\n",
    "df[\"like_to_comment_ratio\"] = df[\"like_count\"] / (df[\"comment_count\"] + 1e-6)\n",
    "\n",
    "# Features and targets\n",
    "X = df[[\"face_count\", \"text_to_blank_ratio\", \"carousel\"]]\n",
    "y_like = df['like_count']\n",
    "y_comment = df['comment_count']\n",
    "y_ratio = df['like_to_comment_ratio']\n",
    "\n",
    "# Standardize features\n",
    "scaler = StandardScaler()\n",
    "X_scaled = scaler.fit_transform(X)\n",
    "\n",
    "# Train/test split (for like_count as example target)\n",
    "X_train, X_test, y_like_train, y_like_test = train_test_split(X_scaled, y_like, test_size=0.2, random_state=42)\n",
    "\n",
    "# Save cleaned version\n",
    "df.to_csv(\"cleaned_engagement_dataset.csv\", index=False)\n",
    "print('Done!')"
   ]
  },
  {
   "cell_type": "markdown",
   "id": "8ac02dea-c921-49bb-8106-d0d99ee5ca64",
   "metadata": {},
   "source": [
    "<div class=\"span5 alert alert-info\">\n",
    "<h3>BLOCK 4</h3><br>\n",
    "\n",
    "Modeling\n",
    "\n",
    "</div>"
   ]
  },
  {
   "cell_type": "code",
   "execution_count": 80,
   "id": "0796a1df-dd97-41a8-9dd5-151676657c3d",
   "metadata": {},
   "outputs": [
    {
     "name": "stdout",
     "output_type": "stream",
     "text": [
      "Done!\n"
     ]
    }
   ],
   "source": [
    "df = pd.read_csv(\"cleaned_engagement_dataset.csv\")\n",
    "\n",
    "# Features and target\n",
    "features = ['face_count', 'text_to_blank_ratio', 'carousel']\n",
    "targets = ['like_count', 'comment_count', 'like_to_comment_ratio']\n",
    "\n",
    "# Create train/test sets for each target\n",
    "X = df[features]\n",
    "scaler = StandardScaler()\n",
    "X_scaled = scaler.fit_transform(X)\n",
    "\n",
    "print('Done!')\n"
   ]
  },
  {
   "cell_type": "code",
   "execution_count": 83,
   "id": "f0514fef-68c8-4711-afe8-78a89c77d37e",
   "metadata": {
    "scrolled": true
   },
   "outputs": [
    {
     "name": "stdout",
     "output_type": "stream",
     "text": [
      "\n",
      " Modeling for: like_count\n",
      "\n",
      "LinearRegression — RMSE: 250858.64, R²: -0.031\n",
      "RidgeRegression — RMSE: 250891.94, R²: -0.031\n",
      "RandomForest — RMSE: 251498.16, R²: -0.036\n",
      "\n",
      " Modeling for: comment_count\n",
      "\n",
      "LinearRegression — RMSE: 291.83, R²: -0.009\n",
      "RidgeRegression — RMSE: 291.39, R²: -0.006\n",
      "RandomForest — RMSE: 343.75, R²: -0.400\n",
      "\n",
      " Modeling for: like_to_comment_ratio\n",
      "\n",
      "LinearRegression — RMSE: 34266328.75, R²: -41205609340.416\n",
      "RidgeRegression — RMSE: 28022653.19, R²: -27557492016.597\n",
      "RandomForest — RMSE: 96988153.55, R²: -330109915238.548\n"
     ]
    }
   ],
   "source": [
    "results = {}\n",
    "\n",
    "for target in targets:\n",
    "    y = df[target]\n",
    "    X_train, X_test, y_train, y_test = train_test_split(X_scaled, y, test_size=0.2, random_state=42)\n",
    "\n",
    "    print(f\"\\n Modeling for: {target}\\n\")\n",
    "\n",
    "    # Linear Regression\n",
    "    lr = LinearRegression()\n",
    "    lr.fit(X_train, y_train)\n",
    "    y_pred_lr = lr.predict(X_test)\n",
    "\n",
    "    # Ridge Regression (with simple hyperparameter tuning)\n",
    "    ridge = Ridge()\n",
    "    params = {'alpha': [0.1, 1.0, 10.0, 100.0]}\n",
    "    ridge_cv = GridSearchCV(ridge, params, cv=5)\n",
    "    ridge_cv.fit(X_train, y_train)\n",
    "    y_pred_ridge = ridge_cv.predict(X_test)\n",
    "\n",
    "    # Random Forest Regressor\n",
    "    rf = RandomForestRegressor(n_estimators=100, random_state=42)\n",
    "    rf.fit(X_train, y_train)\n",
    "    y_pred_rf = rf.predict(X_test)\n",
    "\n",
    "#Evaluate\n",
    "    models = {\n",
    "        'LinearRegression': y_pred_lr,\n",
    "        'RidgeRegression': y_pred_ridge,\n",
    "        'RandomForest': y_pred_rf\n",
    "    }\n",
    "\n",
    "    results[target] = {}\n",
    "    for name, y_pred in models.items():\n",
    "        rmse = np.sqrt(mean_squared_error(y_test, y_pred))\n",
    "        r2 = r2_score(y_test, y_pred)\n",
    "        results[target][name] = {'RMSE': rmse, 'R2': r2}\n",
    "        print(f\"{name} — RMSE: {rmse:.2f}, R²: {r2:.3f}\")"
   ]
  },
  {
   "cell_type": "code",
   "execution_count": null,
   "id": "cff9bc2b-33a2-46cf-abd6-c356c9cd4582",
   "metadata": {},
   "outputs": [],
   "source": []
  },
  {
   "cell_type": "code",
   "execution_count": null,
   "id": "90727602-8f82-45bc-8ff8-2f6978352242",
   "metadata": {},
   "outputs": [],
   "source": [
    "<div class=\"span5 alert alert-info\">\n",
    "<h3>BLOCK 5</h3><br>\n",
    "\n",
    "Modeling\n",
    "\n",
    "</div>\n",
    "After developing and evaluating multiple regression models (Linear, Ridge, and Random Forest), I found that the selected infographic design elements — including number of faces, text-to-blank space ratio, and whether a post was a single image or carousel — do not significantly predict engagement as measured by like count, comment count, or like-to-comment ratio.\n",
    "Across all models and response variables, the R² values hovered near or below zero, and RMSE values were high, indicating that the models could not explain the variability in engagement outcomes.\n",
    "This suggests that these visual infographic features alone are not strong predictors of engagement. Other factors not captured in this dataset — such as caption content, post timing, audience demographics, or Instagram algorithmic boosts — may play a larger role in driving engagement.\n"
   ]
  }
 ],
 "metadata": {
  "kernelspec": {
   "display_name": "Python [conda env:base] *",
   "language": "python",
   "name": "conda-base-py"
  },
  "language_info": {
   "codemirror_mode": {
    "name": "ipython",
    "version": 3
   },
   "file_extension": ".py",
   "mimetype": "text/x-python",
   "name": "python",
   "nbconvert_exporter": "python",
   "pygments_lexer": "ipython3",
   "version": "3.13.5"
  }
 },
 "nbformat": 4,
 "nbformat_minor": 5
}
